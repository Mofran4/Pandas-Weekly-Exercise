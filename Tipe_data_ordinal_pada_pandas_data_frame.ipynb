{
  "metadata": {
    "kernelspec": {
      "name": "python",
      "display_name": "Python (Pyodide)",
      "language": "python"
    },
    "language_info": {
      "codemirror_mode": {
        "name": "python",
        "version": 3
      },
      "file_extension": ".py",
      "mimetype": "text/x-python",
      "name": "python",
      "nbconvert_exporter": "python",
      "pygments_lexer": "ipython3",
      "version": "3.8"
    }
  },
  "nbformat_minor": 4,
  "nbformat": 4,
  "cells": [
    {
      "cell_type": "code",
      "source": "Import Modules",
      "metadata": {
        "trusted": true
      },
      "outputs": [],
      "execution_count": null
    },
    {
      "cell_type": "code",
      "source": "import pandas as pd\n\nprint(pd.__version__)",
      "metadata": {
        "trusted": true
      },
      "outputs": [
        {
          "name": "stdout",
          "text": "1.5.3\n",
          "output_type": "stream"
        }
      ],
      "execution_count": 1
    },
    {
      "cell_type": "code",
      "source": "Persiapan Data Frame",
      "metadata": {
        "trusted": true
      },
      "outputs": [],
      "execution_count": null
    },
    {
      "cell_type": "code",
      "source": "d = {'pelanggan':[11, 12, 13, 14],\n     'kepuasan':['baik', 'cukup', 'buruk', 'cukup']}\n\ndf = pd.DataFrame(d)\ndf",
      "metadata": {
        "trusted": true
      },
      "outputs": [
        {
          "execution_count": 2,
          "output_type": "execute_result",
          "data": {
            "text/plain": "   pelanggan kepuasan\n0         11     baik\n1         12    cukup\n2         13    buruk\n3         14    cukup",
            "text/html": "<div>\n<style scoped>\n    .dataframe tbody tr th:only-of-type {\n        vertical-align: middle;\n    }\n\n    .dataframe tbody tr th {\n        vertical-align: top;\n    }\n\n    .dataframe thead th {\n        text-align: right;\n    }\n</style>\n<table border=\"1\" class=\"dataframe\">\n  <thead>\n    <tr style=\"text-align: right;\">\n      <th></th>\n      <th>pelanggan</th>\n      <th>kepuasan</th>\n    </tr>\n  </thead>\n  <tbody>\n    <tr>\n      <th>0</th>\n      <td>11</td>\n      <td>baik</td>\n    </tr>\n    <tr>\n      <th>1</th>\n      <td>12</td>\n      <td>cukup</td>\n    </tr>\n    <tr>\n      <th>2</th>\n      <td>13</td>\n      <td>buruk</td>\n    </tr>\n    <tr>\n      <th>3</th>\n      <td>14</td>\n      <td>cukup</td>\n    </tr>\n  </tbody>\n</table>\n</div>"
          },
          "metadata": {}
        }
      ],
      "execution_count": 2
    },
    {
      "cell_type": "code",
      "source": "Tipe data ordinal pada Pandas",
      "metadata": {
        "trusted": true
      },
      "outputs": [],
      "execution_count": null
    },
    {
      "cell_type": "code",
      "source": "from pandas.api.types import CategoricalDtype\n\ntingkat_kepuasan = CategoricalDtype(['buruk', 'cukup', 'baik', 'sangat baik'],\n                                    ordered=True)\n\ndf['kepuasan'] = df['kepuasan'].astype(tingkat_kepuasan)\ndf",
      "metadata": {
        "trusted": true
      },
      "outputs": [
        {
          "execution_count": 3,
          "output_type": "execute_result",
          "data": {
            "text/plain": "   pelanggan kepuasan\n0         11     baik\n1         12    cukup\n2         13    buruk\n3         14    cukup",
            "text/html": "<div>\n<style scoped>\n    .dataframe tbody tr th:only-of-type {\n        vertical-align: middle;\n    }\n\n    .dataframe tbody tr th {\n        vertical-align: top;\n    }\n\n    .dataframe thead th {\n        text-align: right;\n    }\n</style>\n<table border=\"1\" class=\"dataframe\">\n  <thead>\n    <tr style=\"text-align: right;\">\n      <th></th>\n      <th>pelanggan</th>\n      <th>kepuasan</th>\n    </tr>\n  </thead>\n  <tbody>\n    <tr>\n      <th>0</th>\n      <td>11</td>\n      <td>baik</td>\n    </tr>\n    <tr>\n      <th>1</th>\n      <td>12</td>\n      <td>cukup</td>\n    </tr>\n    <tr>\n      <th>2</th>\n      <td>13</td>\n      <td>buruk</td>\n    </tr>\n    <tr>\n      <th>3</th>\n      <td>14</td>\n      <td>cukup</td>\n    </tr>\n  </tbody>\n</table>\n</div>"
          },
          "metadata": {}
        }
      ],
      "execution_count": 3
    },
    {
      "cell_type": "code",
      "source": "df = df.sort_values('kepuasan', ascending=True)\ndf",
      "metadata": {
        "trusted": true
      },
      "outputs": [
        {
          "execution_count": 4,
          "output_type": "execute_result",
          "data": {
            "text/plain": "   pelanggan kepuasan\n2         13    buruk\n1         12    cukup\n3         14    cukup\n0         11     baik",
            "text/html": "<div>\n<style scoped>\n    .dataframe tbody tr th:only-of-type {\n        vertical-align: middle;\n    }\n\n    .dataframe tbody tr th {\n        vertical-align: top;\n    }\n\n    .dataframe thead th {\n        text-align: right;\n    }\n</style>\n<table border=\"1\" class=\"dataframe\">\n  <thead>\n    <tr style=\"text-align: right;\">\n      <th></th>\n      <th>pelanggan</th>\n      <th>kepuasan</th>\n    </tr>\n  </thead>\n  <tbody>\n    <tr>\n      <th>2</th>\n      <td>13</td>\n      <td>buruk</td>\n    </tr>\n    <tr>\n      <th>1</th>\n      <td>12</td>\n      <td>cukup</td>\n    </tr>\n    <tr>\n      <th>3</th>\n      <td>14</td>\n      <td>cukup</td>\n    </tr>\n    <tr>\n      <th>0</th>\n      <td>11</td>\n      <td>baik</td>\n    </tr>\n  </tbody>\n</table>\n</div>"
          },
          "metadata": {}
        }
      ],
      "execution_count": 4
    },
    {
      "cell_type": "code",
      "source": "df[df['kepuasan'] >= 'cukup']",
      "metadata": {
        "trusted": true
      },
      "outputs": [
        {
          "execution_count": 8,
          "output_type": "execute_result",
          "data": {
            "text/plain": "   pelanggan kepuasan\n1         12    cukup\n3         14    cukup\n0         11     baik",
            "text/html": "<div>\n<style scoped>\n    .dataframe tbody tr th:only-of-type {\n        vertical-align: middle;\n    }\n\n    .dataframe tbody tr th {\n        vertical-align: top;\n    }\n\n    .dataframe thead th {\n        text-align: right;\n    }\n</style>\n<table border=\"1\" class=\"dataframe\">\n  <thead>\n    <tr style=\"text-align: right;\">\n      <th></th>\n      <th>pelanggan</th>\n      <th>kepuasan</th>\n    </tr>\n  </thead>\n  <tbody>\n    <tr>\n      <th>1</th>\n      <td>12</td>\n      <td>cukup</td>\n    </tr>\n    <tr>\n      <th>3</th>\n      <td>14</td>\n      <td>cukup</td>\n    </tr>\n    <tr>\n      <th>0</th>\n      <td>11</td>\n      <td>baik</td>\n    </tr>\n  </tbody>\n</table>\n</div>"
          },
          "metadata": {}
        }
      ],
      "execution_count": 8
    }
  ]
}