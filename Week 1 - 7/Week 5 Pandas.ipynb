{
 "cells": [
  {
   "cell_type": "markdown",
   "metadata": {
    "id": "8dBzaTBZWKJ0"
   },
   "source": [
    "# 17 Resampling pada Data Deret Waktu (time series data)"
   ]
  },
  {
   "cell_type": "markdown",
   "metadata": {
    "id": "Gc6EQpJLWSAm"
   },
   "source": [
    "Import Modules"
   ]
  },
  {
   "cell_type": "code",
   "execution_count": 1,
   "metadata": {
    "colab": {
     "base_uri": "https://localhost:8080/"
    },
    "id": "gAJ_D5aZVwAd",
    "outputId": "cc2495ab-d9a5-4434-8000-f544a9d0e99b"
   },
   "outputs": [
    {
     "name": "stdout",
     "output_type": "stream",
     "text": [
      "2.0.3\n",
      "1.24.3\n"
     ]
    }
   ],
   "source": [
    "import pandas as pd\n",
    "import numpy as np\n",
    "\n",
    "print(pd.__version__)\n",
    "print(np.__version__)"
   ]
  },
  {
   "cell_type": "markdown",
   "metadata": {
    "id": "hH3GyqBYWbsG"
   },
   "source": [
    "Persiapan Data Frame"
   ]
  },
  {
   "cell_type": "code",
   "execution_count": 2,
   "metadata": {
    "colab": {
     "base_uri": "https://localhost:8080/",
     "height": 458
    },
    "id": "9oMZ43tzW0Xe",
    "outputId": "b7c435eb-64f6-49fc-db0d-5f86e5f8af30"
   },
   "outputs": [
    {
     "data": {
      "text/html": [
       "<div>\n",
       "<style scoped>\n",
       "    .dataframe tbody tr th:only-of-type {\n",
       "        vertical-align: middle;\n",
       "    }\n",
       "\n",
       "    .dataframe tbody tr th {\n",
       "        vertical-align: top;\n",
       "    }\n",
       "\n",
       "    .dataframe thead th {\n",
       "        text-align: right;\n",
       "    }\n",
       "</style>\n",
       "<table border=\"1\" class=\"dataframe\">\n",
       "  <thead>\n",
       "    <tr style=\"text-align: right;\">\n",
       "      <th></th>\n",
       "      <th>col1</th>\n",
       "      <th>col2</th>\n",
       "    </tr>\n",
       "  </thead>\n",
       "  <tbody>\n",
       "    <tr>\n",
       "      <th>2023-01-01 00:00:00</th>\n",
       "      <td>2</td>\n",
       "      <td>16</td>\n",
       "    </tr>\n",
       "    <tr>\n",
       "      <th>2023-01-01 01:00:00</th>\n",
       "      <td>14</td>\n",
       "      <td>3</td>\n",
       "    </tr>\n",
       "    <tr>\n",
       "      <th>2023-01-01 02:00:00</th>\n",
       "      <td>6</td>\n",
       "      <td>19</td>\n",
       "    </tr>\n",
       "    <tr>\n",
       "      <th>2023-01-01 03:00:00</th>\n",
       "      <td>3</td>\n",
       "      <td>18</td>\n",
       "    </tr>\n",
       "    <tr>\n",
       "      <th>2023-01-01 04:00:00</th>\n",
       "      <td>10</td>\n",
       "      <td>16</td>\n",
       "    </tr>\n",
       "    <tr>\n",
       "      <th>...</th>\n",
       "      <td>...</td>\n",
       "      <td>...</td>\n",
       "    </tr>\n",
       "    <tr>\n",
       "      <th>2023-12-31 19:00:00</th>\n",
       "      <td>17</td>\n",
       "      <td>19</td>\n",
       "    </tr>\n",
       "    <tr>\n",
       "      <th>2023-12-31 20:00:00</th>\n",
       "      <td>12</td>\n",
       "      <td>14</td>\n",
       "    </tr>\n",
       "    <tr>\n",
       "      <th>2023-12-31 21:00:00</th>\n",
       "      <td>4</td>\n",
       "      <td>8</td>\n",
       "    </tr>\n",
       "    <tr>\n",
       "      <th>2023-12-31 22:00:00</th>\n",
       "      <td>2</td>\n",
       "      <td>5</td>\n",
       "    </tr>\n",
       "    <tr>\n",
       "      <th>2023-12-31 23:00:00</th>\n",
       "      <td>2</td>\n",
       "      <td>16</td>\n",
       "    </tr>\n",
       "  </tbody>\n",
       "</table>\n",
       "<p>8760 rows × 2 columns</p>\n",
       "</div>"
      ],
      "text/plain": [
       "                     col1  col2\n",
       "2023-01-01 00:00:00     2    16\n",
       "2023-01-01 01:00:00    14     3\n",
       "2023-01-01 02:00:00     6    19\n",
       "2023-01-01 03:00:00     3    18\n",
       "2023-01-01 04:00:00    10    16\n",
       "...                   ...   ...\n",
       "2023-12-31 19:00:00    17    19\n",
       "2023-12-31 20:00:00    12    14\n",
       "2023-12-31 21:00:00     4     8\n",
       "2023-12-31 22:00:00     2     5\n",
       "2023-12-31 23:00:00     2    16\n",
       "\n",
       "[8760 rows x 2 columns]"
      ]
     },
     "execution_count": 2,
     "metadata": {},
     "output_type": "execute_result"
    }
   ],
   "source": [
    "n_rows = 365 * 24\n",
    "n_cols = 2\n",
    "\n",
    "cols = ['col1', 'col2']\n",
    "\n",
    "df = pd.DataFrame(np.random.randint(1, 20, size=(n_rows, n_cols)),\n",
    "                  columns=cols)\n",
    "df.index = pd.date_range(start='2023-01-01', periods=n_rows, freq='H')\n",
    "df"
   ]
  },
  {
   "cell_type": "markdown",
   "metadata": {
    "id": "d2y9bzmhW5V7"
   },
   "source": [
    "Resampling Data dengan Interval Monthly"
   ]
  },
  {
   "cell_type": "code",
   "execution_count": 5,
   "metadata": {
    "colab": {
     "base_uri": "https://localhost:8080/",
     "height": 426
    },
    "id": "FYjw2IcYXLND",
    "outputId": "e0c47cf8-0bd3-4fd5-f0bb-a594644c0da2"
   },
   "outputs": [
    {
     "data": {
      "text/html": [
       "<div>\n",
       "<style scoped>\n",
       "    .dataframe tbody tr th:only-of-type {\n",
       "        vertical-align: middle;\n",
       "    }\n",
       "\n",
       "    .dataframe tbody tr th {\n",
       "        vertical-align: top;\n",
       "    }\n",
       "\n",
       "    .dataframe thead th {\n",
       "        text-align: right;\n",
       "    }\n",
       "</style>\n",
       "<table border=\"1\" class=\"dataframe\">\n",
       "  <thead>\n",
       "    <tr style=\"text-align: right;\">\n",
       "      <th></th>\n",
       "      <th>col1</th>\n",
       "    </tr>\n",
       "  </thead>\n",
       "  <tbody>\n",
       "    <tr>\n",
       "      <th>2023-01-31</th>\n",
       "      <td>7582</td>\n",
       "    </tr>\n",
       "    <tr>\n",
       "      <th>2023-02-28</th>\n",
       "      <td>6634</td>\n",
       "    </tr>\n",
       "    <tr>\n",
       "      <th>2023-03-31</th>\n",
       "      <td>7449</td>\n",
       "    </tr>\n",
       "    <tr>\n",
       "      <th>2023-04-30</th>\n",
       "      <td>7187</td>\n",
       "    </tr>\n",
       "    <tr>\n",
       "      <th>2023-05-31</th>\n",
       "      <td>7520</td>\n",
       "    </tr>\n",
       "    <tr>\n",
       "      <th>2023-06-30</th>\n",
       "      <td>7278</td>\n",
       "    </tr>\n",
       "    <tr>\n",
       "      <th>2023-07-31</th>\n",
       "      <td>7477</td>\n",
       "    </tr>\n",
       "    <tr>\n",
       "      <th>2023-08-31</th>\n",
       "      <td>7500</td>\n",
       "    </tr>\n",
       "    <tr>\n",
       "      <th>2023-09-30</th>\n",
       "      <td>7425</td>\n",
       "    </tr>\n",
       "    <tr>\n",
       "      <th>2023-10-31</th>\n",
       "      <td>7798</td>\n",
       "    </tr>\n",
       "    <tr>\n",
       "      <th>2023-11-30</th>\n",
       "      <td>7412</td>\n",
       "    </tr>\n",
       "    <tr>\n",
       "      <th>2023-12-31</th>\n",
       "      <td>7534</td>\n",
       "    </tr>\n",
       "  </tbody>\n",
       "</table>\n",
       "</div>"
      ],
      "text/plain": [
       "            col1\n",
       "2023-01-31  7582\n",
       "2023-02-28  6634\n",
       "2023-03-31  7449\n",
       "2023-04-30  7187\n",
       "2023-05-31  7520\n",
       "2023-06-30  7278\n",
       "2023-07-31  7477\n",
       "2023-08-31  7500\n",
       "2023-09-30  7425\n",
       "2023-10-31  7798\n",
       "2023-11-30  7412\n",
       "2023-12-31  7534"
      ]
     },
     "execution_count": 5,
     "metadata": {},
     "output_type": "execute_result"
    }
   ],
   "source": [
    "df.resample('M')['col1'].sum().to_frame()"
   ]
  },
  {
   "cell_type": "markdown",
   "metadata": {
    "id": "bkCAYKcpXOk9"
   },
   "source": [
    "Resampling Data dengan Interval Daily"
   ]
  },
  {
   "cell_type": "code",
   "execution_count": 6,
   "metadata": {
    "colab": {
     "base_uri": "https://localhost:8080/",
     "height": 424
    },
    "id": "N-H4VXuOXUKB",
    "outputId": "6c2fd3ac-bd36-41fe-e301-e297b7eff63f"
   },
   "outputs": [
    {
     "data": {
      "text/html": [
       "<div>\n",
       "<style scoped>\n",
       "    .dataframe tbody tr th:only-of-type {\n",
       "        vertical-align: middle;\n",
       "    }\n",
       "\n",
       "    .dataframe tbody tr th {\n",
       "        vertical-align: top;\n",
       "    }\n",
       "\n",
       "    .dataframe thead th {\n",
       "        text-align: right;\n",
       "    }\n",
       "</style>\n",
       "<table border=\"1\" class=\"dataframe\">\n",
       "  <thead>\n",
       "    <tr style=\"text-align: right;\">\n",
       "      <th></th>\n",
       "      <th>col1</th>\n",
       "    </tr>\n",
       "  </thead>\n",
       "  <tbody>\n",
       "    <tr>\n",
       "      <th>2023-01-01</th>\n",
       "      <td>217</td>\n",
       "    </tr>\n",
       "    <tr>\n",
       "      <th>2023-01-02</th>\n",
       "      <td>244</td>\n",
       "    </tr>\n",
       "    <tr>\n",
       "      <th>2023-01-03</th>\n",
       "      <td>220</td>\n",
       "    </tr>\n",
       "    <tr>\n",
       "      <th>2023-01-04</th>\n",
       "      <td>247</td>\n",
       "    </tr>\n",
       "    <tr>\n",
       "      <th>2023-01-05</th>\n",
       "      <td>219</td>\n",
       "    </tr>\n",
       "    <tr>\n",
       "      <th>...</th>\n",
       "      <td>...</td>\n",
       "    </tr>\n",
       "    <tr>\n",
       "      <th>2023-12-27</th>\n",
       "      <td>215</td>\n",
       "    </tr>\n",
       "    <tr>\n",
       "      <th>2023-12-28</th>\n",
       "      <td>249</td>\n",
       "    </tr>\n",
       "    <tr>\n",
       "      <th>2023-12-29</th>\n",
       "      <td>182</td>\n",
       "    </tr>\n",
       "    <tr>\n",
       "      <th>2023-12-30</th>\n",
       "      <td>240</td>\n",
       "    </tr>\n",
       "    <tr>\n",
       "      <th>2023-12-31</th>\n",
       "      <td>248</td>\n",
       "    </tr>\n",
       "  </tbody>\n",
       "</table>\n",
       "<p>365 rows × 1 columns</p>\n",
       "</div>"
      ],
      "text/plain": [
       "            col1\n",
       "2023-01-01   217\n",
       "2023-01-02   244\n",
       "2023-01-03   220\n",
       "2023-01-04   247\n",
       "2023-01-05   219\n",
       "...          ...\n",
       "2023-12-27   215\n",
       "2023-12-28   249\n",
       "2023-12-29   182\n",
       "2023-12-30   240\n",
       "2023-12-31   248\n",
       "\n",
       "[365 rows x 1 columns]"
      ]
     },
     "execution_count": 6,
     "metadata": {},
     "output_type": "execute_result"
    }
   ],
   "source": [
    "df.resample('D')['col1'].sum().to_frame()"
   ]
  },
  {
   "cell_type": "markdown",
   "metadata": {
    "id": "HAvKCvCWXar2"
   },
   "source": [
    "# 18 Membentuk dummy Data Frame"
   ]
  },
  {
   "cell_type": "markdown",
   "metadata": {
    "id": "LqLJaGK7Xihw"
   },
   "source": [
    "Import Modules"
   ]
  },
  {
   "cell_type": "code",
   "execution_count": 7,
   "metadata": {
    "colab": {
     "base_uri": "https://localhost:8080/"
    },
    "id": "5csXS5ywXmTS",
    "outputId": "30c50b93-bd60-4999-8ec4-f2079ce97927"
   },
   "outputs": [
    {
     "name": "stdout",
     "output_type": "stream",
     "text": [
      "2.0.3\n",
      "1.24.3\n"
     ]
    }
   ],
   "source": [
    "import pandas as pd\n",
    "import numpy as np\n",
    "\n",
    "print(pd.__version__)\n",
    "print(np.__version__)"
   ]
  },
  {
   "cell_type": "markdown",
   "metadata": {
    "id": "Aw-zWTsSXpND"
   },
   "source": [
    "Membentuk Data Frame dari Dictionary"
   ]
  },
  {
   "cell_type": "code",
   "execution_count": 8,
   "metadata": {
    "colab": {
     "base_uri": "https://localhost:8080/",
     "height": 175
    },
    "id": "_CfINfoIXtHj",
    "outputId": "b535f94b-5b79-4dcf-e2db-0e3ed6a5aaa3"
   },
   "outputs": [
    {
     "data": {
      "text/html": [
       "<div>\n",
       "<style scoped>\n",
       "    .dataframe tbody tr th:only-of-type {\n",
       "        vertical-align: middle;\n",
       "    }\n",
       "\n",
       "    .dataframe tbody tr th {\n",
       "        vertical-align: top;\n",
       "    }\n",
       "\n",
       "    .dataframe thead th {\n",
       "        text-align: right;\n",
       "    }\n",
       "</style>\n",
       "<table border=\"1\" class=\"dataframe\">\n",
       "  <thead>\n",
       "    <tr style=\"text-align: right;\">\n",
       "      <th></th>\n",
       "      <th>col1</th>\n",
       "      <th>col2</th>\n",
       "    </tr>\n",
       "  </thead>\n",
       "  <tbody>\n",
       "    <tr>\n",
       "      <th>0</th>\n",
       "      <td>1</td>\n",
       "      <td>5</td>\n",
       "    </tr>\n",
       "    <tr>\n",
       "      <th>1</th>\n",
       "      <td>2</td>\n",
       "      <td>6</td>\n",
       "    </tr>\n",
       "    <tr>\n",
       "      <th>2</th>\n",
       "      <td>3</td>\n",
       "      <td>7</td>\n",
       "    </tr>\n",
       "    <tr>\n",
       "      <th>3</th>\n",
       "      <td>4</td>\n",
       "      <td>8</td>\n",
       "    </tr>\n",
       "  </tbody>\n",
       "</table>\n",
       "</div>"
      ],
      "text/plain": [
       "   col1  col2\n",
       "0     1     5\n",
       "1     2     6\n",
       "2     3     7\n",
       "3     4     8"
      ]
     },
     "execution_count": 8,
     "metadata": {},
     "output_type": "execute_result"
    }
   ],
   "source": [
    "pd.DataFrame({'col1':[1, 2, 3, 4], \n",
    "              'col2':[5, 6, 7, 8]})"
   ]
  },
  {
   "cell_type": "markdown",
   "metadata": {
    "id": "tYZnj624Xv93"
   },
   "source": [
    "Membentuk Data Frame dari Numpy Array"
   ]
  },
  {
   "cell_type": "code",
   "execution_count": 9,
   "metadata": {
    "colab": {
     "base_uri": "https://localhost:8080/"
    },
    "id": "bCTd-_vGXvZ6",
    "outputId": "b31558dd-dcfc-495a-8968-c59d001c4599"
   },
   "outputs": [
    {
     "data": {
      "text/plain": [
       "array([[18,  9,  4],\n",
       "       [ 4,  5, 19],\n",
       "       [ 6,  8, 16],\n",
       "       [ 6,  1, 13],\n",
       "       [ 9, 11,  3]])"
      ]
     },
     "execution_count": 9,
     "metadata": {},
     "output_type": "execute_result"
    }
   ],
   "source": [
    "n_rows = 5\n",
    "n_cols = 3\n",
    "arr = np.random.randint(1, 20, size=(n_rows, n_cols))\n",
    "arr"
   ]
  },
  {
   "cell_type": "code",
   "execution_count": 10,
   "metadata": {
    "colab": {
     "base_uri": "https://localhost:8080/",
     "height": 206
    },
    "id": "O-0J6lZ4X6lg",
    "outputId": "02b87257-ddf4-4dfd-d67a-38df48191500"
   },
   "outputs": [],
   "source": [
    "df = pd.DataFrame(arr, columns=tuple('ABC'))"
   ]
  },
  {
   "cell_type": "markdown",
   "metadata": {
    "id": "yPRaCRB3X9-5"
   },
   "source": [
    "Membentuk Data Frame dengan Memanfaatkan pandas.util.testing"
   ]
  },
  {
   "cell_type": "code",
   "execution_count": 12,
   "metadata": {
    "colab": {
     "base_uri": "https://localhost:8080/",
     "height": 206
    },
    "id": "9-RW2yb6YGo7",
    "outputId": "e320138b-a948-4720-cf56-a7b0858d8a0c"
   },
   "outputs": [
    {
     "name": "stdout",
     "output_type": "stream",
     "text": [
      "        Date  value\n",
      "0 2023-01-01     57\n",
      "1 2023-01-02     85\n",
      "2 2023-01-03     80\n",
      "3 2023-01-04     18\n",
      "4 2023-01-05     65\n"
     ]
    }
   ],
   "source": [
    "date_rng = pd.date_range(start='2023-01-01', end='2023-01-05', freq='D')\n",
    "df = pd.DataFrame(date_rng, columns=['Date'])\n",
    "df['value'] = np.random.randint(1, 100, size=(len(date_rng)))\n",
    "\n",
    "result = df.reset_index(drop=True)\n",
    "print(result)"
   ]
  },
  {
   "cell_type": "code",
   "execution_count": 13,
   "metadata": {
    "colab": {
     "base_uri": "https://localhost:8080/",
     "height": 206
    },
    "id": "X9KjuSRFYKcs",
    "outputId": "1136d115-bf82-496d-fa2a-f924824156f4"
   },
   "outputs": [
    {
     "data": {
      "text/html": [
       "<div>\n",
       "<style scoped>\n",
       "    .dataframe tbody tr th:only-of-type {\n",
       "        vertical-align: middle;\n",
       "    }\n",
       "\n",
       "    .dataframe tbody tr th {\n",
       "        vertical-align: top;\n",
       "    }\n",
       "\n",
       "    .dataframe thead th {\n",
       "        text-align: right;\n",
       "    }\n",
       "</style>\n",
       "<table border=\"1\" class=\"dataframe\">\n",
       "  <thead>\n",
       "    <tr style=\"text-align: right;\">\n",
       "      <th></th>\n",
       "      <th>col1</th>\n",
       "      <th>col2</th>\n",
       "      <th>col3</th>\n",
       "      <th>col4</th>\n",
       "      <th>col5</th>\n",
       "    </tr>\n",
       "  </thead>\n",
       "  <tbody>\n",
       "    <tr>\n",
       "      <th>0</th>\n",
       "      <td>44</td>\n",
       "      <td>0.852555</td>\n",
       "      <td>A</td>\n",
       "      <td>2023-01-01</td>\n",
       "      <td>True</td>\n",
       "    </tr>\n",
       "    <tr>\n",
       "      <th>1</th>\n",
       "      <td>11</td>\n",
       "      <td>0.421981</td>\n",
       "      <td>B</td>\n",
       "      <td>2023-01-02</td>\n",
       "      <td>False</td>\n",
       "    </tr>\n",
       "    <tr>\n",
       "      <th>2</th>\n",
       "      <td>19</td>\n",
       "      <td>0.117166</td>\n",
       "      <td>C</td>\n",
       "      <td>2023-01-03</td>\n",
       "      <td>True</td>\n",
       "    </tr>\n",
       "    <tr>\n",
       "      <th>3</th>\n",
       "      <td>9</td>\n",
       "      <td>0.911778</td>\n",
       "      <td>D</td>\n",
       "      <td>2023-01-04</td>\n",
       "      <td>False</td>\n",
       "    </tr>\n",
       "    <tr>\n",
       "      <th>4</th>\n",
       "      <td>18</td>\n",
       "      <td>0.613774</td>\n",
       "      <td>E</td>\n",
       "      <td>2023-01-05</td>\n",
       "      <td>True</td>\n",
       "    </tr>\n",
       "  </tbody>\n",
       "</table>\n",
       "</div>"
      ],
      "text/plain": [
       "   col1      col2 col3       col4   col5\n",
       "0    44  0.852555    A 2023-01-01   True\n",
       "1    11  0.421981    B 2023-01-02  False\n",
       "2    19  0.117166    C 2023-01-03   True\n",
       "3     9  0.911778    D 2023-01-04  False\n",
       "4    18  0.613774    E 2023-01-05   True"
      ]
     },
     "execution_count": 13,
     "metadata": {},
     "output_type": "execute_result"
    }
   ],
   "source": [
    "data = {\n",
    "    'col1': np.random.randint(1, 100, size=5),\n",
    "    'col2': np.random.rand(5),\n",
    "    'col3': ['A', 'B', 'C', 'D', 'E'],\n",
    "    'col4': pd.date_range(start='2023-01-01', periods=5, freq='D'),\n",
    "    'col5': [True, False, True, False, True]\n",
    "}\n",
    "df = pd.DataFrame(data)\n",
    "df.head()"
   ]
  },
  {
   "cell_type": "code",
   "execution_count": 14,
   "metadata": {
    "colab": {
     "base_uri": "https://localhost:8080/",
     "height": 206
    },
    "id": "s_lzvbj-YORC",
    "outputId": "72e159c6-70d1-4dba-8631-572bea174e1e"
   },
   "outputs": [
    {
     "data": {
      "text/html": [
       "<div>\n",
       "<style scoped>\n",
       "    .dataframe tbody tr th:only-of-type {\n",
       "        vertical-align: middle;\n",
       "    }\n",
       "\n",
       "    .dataframe tbody tr th {\n",
       "        vertical-align: top;\n",
       "    }\n",
       "\n",
       "    .dataframe thead th {\n",
       "        text-align: right;\n",
       "    }\n",
       "</style>\n",
       "<table border=\"1\" class=\"dataframe\">\n",
       "  <thead>\n",
       "    <tr style=\"text-align: right;\">\n",
       "      <th></th>\n",
       "      <th>A</th>\n",
       "      <th>B</th>\n",
       "      <th>C</th>\n",
       "      <th>D</th>\n",
       "    </tr>\n",
       "  </thead>\n",
       "  <tbody>\n",
       "    <tr>\n",
       "      <th>2000-01-03</th>\n",
       "      <td>1.406569</td>\n",
       "      <td>0.203469</td>\n",
       "      <td>-0.087943</td>\n",
       "      <td>-0.356886</td>\n",
       "    </tr>\n",
       "    <tr>\n",
       "      <th>2000-01-04</th>\n",
       "      <td>-0.075970</td>\n",
       "      <td>1.135609</td>\n",
       "      <td>-1.134648</td>\n",
       "      <td>-1.019116</td>\n",
       "    </tr>\n",
       "    <tr>\n",
       "      <th>2000-01-05</th>\n",
       "      <td>0.723151</td>\n",
       "      <td>0.403678</td>\n",
       "      <td>0.052033</td>\n",
       "      <td>1.915797</td>\n",
       "    </tr>\n",
       "    <tr>\n",
       "      <th>2000-01-06</th>\n",
       "      <td>1.283097</td>\n",
       "      <td>0.179348</td>\n",
       "      <td>0.552485</td>\n",
       "      <td>-0.765167</td>\n",
       "    </tr>\n",
       "    <tr>\n",
       "      <th>2000-01-07</th>\n",
       "      <td>1.280826</td>\n",
       "      <td>0.495392</td>\n",
       "      <td>-0.717062</td>\n",
       "      <td>-2.680614</td>\n",
       "    </tr>\n",
       "  </tbody>\n",
       "</table>\n",
       "</div>"
      ],
      "text/plain": [
       "                   A         B         C         D\n",
       "2000-01-03  1.406569  0.203469 -0.087943 -0.356886\n",
       "2000-01-04 -0.075970  1.135609 -1.134648 -1.019116\n",
       "2000-01-05  0.723151  0.403678  0.052033  1.915797\n",
       "2000-01-06  1.283097  0.179348  0.552485 -0.765167\n",
       "2000-01-07  1.280826  0.495392 -0.717062 -2.680614"
      ]
     },
     "execution_count": 14,
     "metadata": {},
     "output_type": "execute_result"
    }
   ],
   "source": [
    "date_index = pd.date_range(start='2000-01-03', periods=5, freq='D')\n",
    "df = pd.DataFrame(np.random.randn(5, 4), index=date_index, columns=['A', 'B', 'C', 'D'])\n",
    "df.head()"
   ]
  },
  {
   "cell_type": "code",
   "execution_count": 15,
   "metadata": {
    "colab": {
     "base_uri": "https://localhost:8080/",
     "height": 206
    },
    "id": "fOw3WQGcYTQQ",
    "outputId": "151356af-787d-4c94-d0a6-9c84acd5e55f"
   },
   "outputs": [
    {
     "data": {
      "text/html": [
       "<div>\n",
       "<style scoped>\n",
       "    .dataframe tbody tr th:only-of-type {\n",
       "        vertical-align: middle;\n",
       "    }\n",
       "\n",
       "    .dataframe tbody tr th {\n",
       "        vertical-align: top;\n",
       "    }\n",
       "\n",
       "    .dataframe thead th {\n",
       "        text-align: right;\n",
       "    }\n",
       "</style>\n",
       "<table border=\"1\" class=\"dataframe\">\n",
       "  <thead>\n",
       "    <tr style=\"text-align: right;\">\n",
       "      <th></th>\n",
       "      <th>A</th>\n",
       "      <th>B</th>\n",
       "      <th>C</th>\n",
       "      <th>D</th>\n",
       "    </tr>\n",
       "  </thead>\n",
       "  <tbody>\n",
       "    <tr>\n",
       "      <th>WmDnD0VgHq</th>\n",
       "      <td>-0.272316</td>\n",
       "      <td>NaN</td>\n",
       "      <td>0.632297</td>\n",
       "      <td>NaN</td>\n",
       "    </tr>\n",
       "    <tr>\n",
       "      <th>oK5aIeQDwO</th>\n",
       "      <td>0.923968</td>\n",
       "      <td>-1.583985</td>\n",
       "      <td>1.036779</td>\n",
       "      <td>0.612198</td>\n",
       "    </tr>\n",
       "    <tr>\n",
       "      <th>kRIH8XgQXB</th>\n",
       "      <td>NaN</td>\n",
       "      <td>0.532682</td>\n",
       "      <td>0.105960</td>\n",
       "      <td>0.914729</td>\n",
       "    </tr>\n",
       "    <tr>\n",
       "      <th>xOQltmT4oD</th>\n",
       "      <td>-0.988282</td>\n",
       "      <td>1.086572</td>\n",
       "      <td>0.698742</td>\n",
       "      <td>0.602488</td>\n",
       "    </tr>\n",
       "    <tr>\n",
       "      <th>6QBa6ZnCaP</th>\n",
       "      <td>-1.257943</td>\n",
       "      <td>NaN</td>\n",
       "      <td>-0.313732</td>\n",
       "      <td>-0.191107</td>\n",
       "    </tr>\n",
       "  </tbody>\n",
       "</table>\n",
       "</div>"
      ],
      "text/plain": [
       "                   A         B         C         D\n",
       "WmDnD0VgHq -0.272316       NaN  0.632297       NaN\n",
       "oK5aIeQDwO  0.923968 -1.583985  1.036779  0.612198\n",
       "kRIH8XgQXB       NaN  0.532682  0.105960  0.914729\n",
       "xOQltmT4oD -0.988282  1.086572  0.698742  0.602488\n",
       "6QBa6ZnCaP -1.257943       NaN -0.313732 -0.191107"
      ]
     },
     "execution_count": 15,
     "metadata": {},
     "output_type": "execute_result"
    }
   ],
   "source": [
    "index = ['WmDnD0VgHq', 'oK5aIeQDwO', 'kRIH8XgQXB', 'xOQltmT4oD', '6QBa6ZnCaP']\n",
    "columns = ['A', 'B', 'C', 'D']\n",
    "\n",
    "df = pd.DataFrame(np.random.randn(5, 4), index=index, columns=columns)\n",
    "random_indices = np.random.choice(df.size, replace=False, size=int(df.size * 0.2))\n",
    "df.values.flat[random_indices] = np.nan\n",
    "\n",
    "df.head()"
   ]
  },
  {
   "cell_type": "markdown",
   "metadata": {
    "id": "Bl6ZkYSFYV1i"
   },
   "source": [
    "# 19 Formatting tampilan Data Frame"
   ]
  },
  {
   "cell_type": "markdown",
   "metadata": {
    "id": "oCMMlG1SYdOS"
   },
   "source": [
    "Import Modules"
   ]
  },
  {
   "cell_type": "code",
   "execution_count": 16,
   "metadata": {
    "colab": {
     "base_uri": "https://localhost:8080/"
    },
    "id": "bRafqAmvYjhJ",
    "outputId": "44b82d6d-4c81-4c6a-9595-80a66e81e0bd"
   },
   "outputs": [
    {
     "name": "stdout",
     "output_type": "stream",
     "text": [
      "2.0.3\n",
      "1.24.3\n"
     ]
    }
   ],
   "source": [
    "import pandas as pd\n",
    "import numpy as np\n",
    "\n",
    "print(pd.__version__)\n",
    "print(np.__version__)"
   ]
  },
  {
   "cell_type": "markdown",
   "metadata": {
    "id": "TJUGKEkEYpRx"
   },
   "source": [
    "Persiapan Data Frame"
   ]
  },
  {
   "cell_type": "code",
   "execution_count": 17,
   "metadata": {
    "colab": {
     "base_uri": "https://localhost:8080/",
     "height": 206
    },
    "id": "4EIgLpdoYrlU",
    "outputId": "446d5f79-48ef-4705-c7d9-02743fb7743a"
   },
   "outputs": [
    {
     "data": {
      "text/html": [
       "<div>\n",
       "<style scoped>\n",
       "    .dataframe tbody tr th:only-of-type {\n",
       "        vertical-align: middle;\n",
       "    }\n",
       "\n",
       "    .dataframe tbody tr th {\n",
       "        vertical-align: top;\n",
       "    }\n",
       "\n",
       "    .dataframe thead th {\n",
       "        text-align: right;\n",
       "    }\n",
       "</style>\n",
       "<table border=\"1\" class=\"dataframe\">\n",
       "  <thead>\n",
       "    <tr style=\"text-align: right;\">\n",
       "      <th></th>\n",
       "      <th>omset</th>\n",
       "      <th>operasional</th>\n",
       "    </tr>\n",
       "  </thead>\n",
       "  <tbody>\n",
       "    <tr>\n",
       "      <th>0</th>\n",
       "      <td>8</td>\n",
       "      <td>7</td>\n",
       "    </tr>\n",
       "    <tr>\n",
       "      <th>1</th>\n",
       "      <td>15</td>\n",
       "      <td>4</td>\n",
       "    </tr>\n",
       "    <tr>\n",
       "      <th>2</th>\n",
       "      <td>8</td>\n",
       "      <td>15</td>\n",
       "    </tr>\n",
       "    <tr>\n",
       "      <th>3</th>\n",
       "      <td>18</td>\n",
       "      <td>4</td>\n",
       "    </tr>\n",
       "    <tr>\n",
       "      <th>4</th>\n",
       "      <td>4</td>\n",
       "      <td>9</td>\n",
       "    </tr>\n",
       "  </tbody>\n",
       "</table>\n",
       "</div>"
      ],
      "text/plain": [
       "   omset  operasional\n",
       "0      8            7\n",
       "1     15            4\n",
       "2      8           15\n",
       "3     18            4\n",
       "4      4            9"
      ]
     },
     "execution_count": 17,
     "metadata": {},
     "output_type": "execute_result"
    }
   ],
   "source": [
    "n_rows = 5\n",
    "n_cols = 2\n",
    "cols = ['omset', 'operasional']\n",
    "\n",
    "df = pd.DataFrame(np.random.randint(1, 20, size=(n_rows, n_cols)), \n",
    "                  columns=cols)\n",
    "df"
   ]
  },
  {
   "cell_type": "code",
   "execution_count": 18,
   "metadata": {
    "colab": {
     "base_uri": "https://localhost:8080/",
     "height": 206
    },
    "id": "qFuxBrxEY7I1",
    "outputId": "58bf0d6d-024f-42db-aae7-9e77569ab687"
   },
   "outputs": [
    {
     "data": {
      "text/html": [
       "<div>\n",
       "<style scoped>\n",
       "    .dataframe tbody tr th:only-of-type {\n",
       "        vertical-align: middle;\n",
       "    }\n",
       "\n",
       "    .dataframe tbody tr th {\n",
       "        vertical-align: top;\n",
       "    }\n",
       "\n",
       "    .dataframe thead th {\n",
       "        text-align: right;\n",
       "    }\n",
       "</style>\n",
       "<table border=\"1\" class=\"dataframe\">\n",
       "  <thead>\n",
       "    <tr style=\"text-align: right;\">\n",
       "      <th></th>\n",
       "      <th>omset</th>\n",
       "      <th>operasional</th>\n",
       "    </tr>\n",
       "  </thead>\n",
       "  <tbody>\n",
       "    <tr>\n",
       "      <th>0</th>\n",
       "      <td>800000</td>\n",
       "      <td>70000</td>\n",
       "    </tr>\n",
       "    <tr>\n",
       "      <th>1</th>\n",
       "      <td>1500000</td>\n",
       "      <td>40000</td>\n",
       "    </tr>\n",
       "    <tr>\n",
       "      <th>2</th>\n",
       "      <td>800000</td>\n",
       "      <td>150000</td>\n",
       "    </tr>\n",
       "    <tr>\n",
       "      <th>3</th>\n",
       "      <td>1800000</td>\n",
       "      <td>40000</td>\n",
       "    </tr>\n",
       "    <tr>\n",
       "      <th>4</th>\n",
       "      <td>400000</td>\n",
       "      <td>90000</td>\n",
       "    </tr>\n",
       "  </tbody>\n",
       "</table>\n",
       "</div>"
      ],
      "text/plain": [
       "     omset  operasional\n",
       "0   800000        70000\n",
       "1  1500000        40000\n",
       "2   800000       150000\n",
       "3  1800000        40000\n",
       "4   400000        90000"
      ]
     },
     "execution_count": 18,
     "metadata": {},
     "output_type": "execute_result"
    }
   ],
   "source": [
    "df['omset'] = df['omset'] * 100_000\n",
    "df['operasional'] = df['operasional'] * 10_000\n",
    "df"
   ]
  },
  {
   "cell_type": "code",
   "execution_count": 20,
   "metadata": {
    "colab": {
     "base_uri": "https://localhost:8080/",
     "height": 206
    },
    "id": "Y00Bkh8bZAxG",
    "outputId": "f154d056-e45a-4f11-82a1-4ef6c1d65b7f"
   },
   "outputs": [
    {
     "data": {
      "text/html": [
       "<div>\n",
       "<style scoped>\n",
       "    .dataframe tbody tr th:only-of-type {\n",
       "        vertical-align: middle;\n",
       "    }\n",
       "\n",
       "    .dataframe tbody tr th {\n",
       "        vertical-align: top;\n",
       "    }\n",
       "\n",
       "    .dataframe thead th {\n",
       "        text-align: right;\n",
       "    }\n",
       "</style>\n",
       "<table border=\"1\" class=\"dataframe\">\n",
       "  <thead>\n",
       "    <tr style=\"text-align: right;\">\n",
       "      <th></th>\n",
       "      <th>tanggal</th>\n",
       "      <th>omset</th>\n",
       "      <th>operasional</th>\n",
       "    </tr>\n",
       "  </thead>\n",
       "  <tbody>\n",
       "    <tr>\n",
       "      <th>0</th>\n",
       "      <td>2000-01-01</td>\n",
       "      <td>800000</td>\n",
       "      <td>70000</td>\n",
       "    </tr>\n",
       "    <tr>\n",
       "      <th>1</th>\n",
       "      <td>2000-01-02</td>\n",
       "      <td>1500000</td>\n",
       "      <td>40000</td>\n",
       "    </tr>\n",
       "    <tr>\n",
       "      <th>2</th>\n",
       "      <td>2000-01-03</td>\n",
       "      <td>800000</td>\n",
       "      <td>150000</td>\n",
       "    </tr>\n",
       "    <tr>\n",
       "      <th>3</th>\n",
       "      <td>2000-01-04</td>\n",
       "      <td>1800000</td>\n",
       "      <td>40000</td>\n",
       "    </tr>\n",
       "    <tr>\n",
       "      <th>4</th>\n",
       "      <td>2000-01-05</td>\n",
       "      <td>400000</td>\n",
       "      <td>90000</td>\n",
       "    </tr>\n",
       "  </tbody>\n",
       "</table>\n",
       "</div>"
      ],
      "text/plain": [
       "     tanggal    omset  operasional\n",
       "0 2000-01-01   800000        70000\n",
       "1 2000-01-02  1500000        40000\n",
       "2 2000-01-03   800000       150000\n",
       "3 2000-01-04  1800000        40000\n",
       "4 2000-01-05   400000        90000"
      ]
     },
     "execution_count": 20,
     "metadata": {},
     "output_type": "execute_result"
    }
   ],
   "source": [
    "start_date = pd.to_datetime('2000-01-01')\n",
    "df['tanggal'] = pd.date_range(start=start_date, periods=n_rows)\n",
    "\n",
    "df = df[['tanggal', 'omset', 'operasional']]\n",
    "df"
   ]
  },
  {
   "cell_type": "markdown",
   "metadata": {
    "id": "AO7eObsqZFpV"
   },
   "source": [
    "Melakukan formatting tampilan Data Frame"
   ]
  },
  {
   "cell_type": "code",
   "execution_count": 21,
   "metadata": {
    "colab": {
     "base_uri": "https://localhost:8080/",
     "height": 206
    },
    "id": "BeE6DZ-WZNNR",
    "outputId": "1abfda6e-e806-4940-ee6e-3b72fc8b655d"
   },
   "outputs": [
    {
     "data": {
      "text/html": [
       "<style type=\"text/css\">\n",
       "</style>\n",
       "<table id=\"T_489fb\">\n",
       "  <thead>\n",
       "    <tr>\n",
       "      <th class=\"blank level0\" >&nbsp;</th>\n",
       "      <th id=\"T_489fb_level0_col0\" class=\"col_heading level0 col0\" >tanggal</th>\n",
       "      <th id=\"T_489fb_level0_col1\" class=\"col_heading level0 col1\" >omset</th>\n",
       "      <th id=\"T_489fb_level0_col2\" class=\"col_heading level0 col2\" >operasional</th>\n",
       "    </tr>\n",
       "  </thead>\n",
       "  <tbody>\n",
       "    <tr>\n",
       "      <th id=\"T_489fb_level0_row0\" class=\"row_heading level0 row0\" >0</th>\n",
       "      <td id=\"T_489fb_row0_col0\" class=\"data row0 col0\" >01/01/00</td>\n",
       "      <td id=\"T_489fb_row0_col1\" class=\"data row0 col1\" >Rp 800000.00</td>\n",
       "      <td id=\"T_489fb_row0_col2\" class=\"data row0 col2\" >Rp 70000.00</td>\n",
       "    </tr>\n",
       "    <tr>\n",
       "      <th id=\"T_489fb_level0_row1\" class=\"row_heading level0 row1\" >1</th>\n",
       "      <td id=\"T_489fb_row1_col0\" class=\"data row1 col0\" >02/01/00</td>\n",
       "      <td id=\"T_489fb_row1_col1\" class=\"data row1 col1\" >Rp 1500000.00</td>\n",
       "      <td id=\"T_489fb_row1_col2\" class=\"data row1 col2\" >Rp 40000.00</td>\n",
       "    </tr>\n",
       "    <tr>\n",
       "      <th id=\"T_489fb_level0_row2\" class=\"row_heading level0 row2\" >2</th>\n",
       "      <td id=\"T_489fb_row2_col0\" class=\"data row2 col0\" >03/01/00</td>\n",
       "      <td id=\"T_489fb_row2_col1\" class=\"data row2 col1\" >Rp 800000.00</td>\n",
       "      <td id=\"T_489fb_row2_col2\" class=\"data row2 col2\" >Rp 150000.00</td>\n",
       "    </tr>\n",
       "    <tr>\n",
       "      <th id=\"T_489fb_level0_row3\" class=\"row_heading level0 row3\" >3</th>\n",
       "      <td id=\"T_489fb_row3_col0\" class=\"data row3 col0\" >04/01/00</td>\n",
       "      <td id=\"T_489fb_row3_col1\" class=\"data row3 col1\" >Rp 1800000.00</td>\n",
       "      <td id=\"T_489fb_row3_col2\" class=\"data row3 col2\" >Rp 40000.00</td>\n",
       "    </tr>\n",
       "    <tr>\n",
       "      <th id=\"T_489fb_level0_row4\" class=\"row_heading level0 row4\" >4</th>\n",
       "      <td id=\"T_489fb_row4_col0\" class=\"data row4 col0\" >05/01/00</td>\n",
       "      <td id=\"T_489fb_row4_col1\" class=\"data row4 col1\" >Rp 400000.00</td>\n",
       "      <td id=\"T_489fb_row4_col2\" class=\"data row4 col2\" >Rp 90000.00</td>\n",
       "    </tr>\n",
       "  </tbody>\n",
       "</table>\n"
      ],
      "text/plain": [
       "<pandas.io.formats.style.Styler at 0x2972a6b12d0>"
      ]
     },
     "execution_count": 21,
     "metadata": {},
     "output_type": "execute_result"
    }
   ],
   "source": [
    "formatku = {'tanggal': '{:%d/%m/%y}', 'operasional': 'Rp {:.2f}', 'omset': 'Rp {:.2f}'}\n",
    "laporan = df.style.format(formatku)\n",
    "laporan"
   ]
  },
  {
   "cell_type": "code",
   "execution_count": 22,
   "metadata": {
    "colab": {
     "base_uri": "https://localhost:8080/"
    },
    "id": "AdgYD7hOev9z",
    "outputId": "6b9b5d5f-0e38-4170-c7ac-0d183589a087"
   },
   "outputs": [
    {
     "data": {
      "text/plain": [
       "pandas.io.formats.style.Styler"
      ]
     },
     "execution_count": 22,
     "metadata": {},
     "output_type": "execute_result"
    }
   ],
   "source": [
    "type(laporan)"
   ]
  },
  {
   "cell_type": "code",
   "execution_count": 23,
   "metadata": {
    "colab": {
     "base_uri": "https://localhost:8080/",
     "height": 206
    },
    "id": "_gZEVpoMe1uV",
    "outputId": "7723e339-3032-44e5-ae77-433e5de73f41"
   },
   "outputs": [
    {
     "data": {
      "text/html": [
       "<style type=\"text/css\">\n",
       "</style>\n",
       "<table id=\"T_9ff3a\">\n",
       "  <thead>\n",
       "    <tr>\n",
       "      <th class=\"blank level0\" >&nbsp;</th>\n",
       "      <th id=\"T_9ff3a_level0_col0\" class=\"col_heading level0 col0\" >tanggal</th>\n",
       "      <th id=\"T_9ff3a_level0_col1\" class=\"col_heading level0 col1\" >omset</th>\n",
       "      <th id=\"T_9ff3a_level0_col2\" class=\"col_heading level0 col2\" >operasional</th>\n",
       "    </tr>\n",
       "  </thead>\n",
       "  <tbody>\n",
       "    <tr>\n",
       "      <th id=\"T_9ff3a_level0_row0\" class=\"row_heading level0 row0\" ></th>\n",
       "      <td id=\"T_9ff3a_row0_col0\" class=\"data row0 col0\" >01/01/00</td>\n",
       "      <td id=\"T_9ff3a_row0_col1\" class=\"data row0 col1\" >Rp 800000.00</td>\n",
       "      <td id=\"T_9ff3a_row0_col2\" class=\"data row0 col2\" >Rp 70000.00</td>\n",
       "    </tr>\n",
       "    <tr>\n",
       "      <th id=\"T_9ff3a_level0_row1\" class=\"row_heading level0 row1\" ></th>\n",
       "      <td id=\"T_9ff3a_row1_col0\" class=\"data row1 col0\" >02/01/00</td>\n",
       "      <td id=\"T_9ff3a_row1_col1\" class=\"data row1 col1\" >Rp 1500000.00</td>\n",
       "      <td id=\"T_9ff3a_row1_col2\" class=\"data row1 col2\" >Rp 40000.00</td>\n",
       "    </tr>\n",
       "    <tr>\n",
       "      <th id=\"T_9ff3a_level0_row2\" class=\"row_heading level0 row2\" ></th>\n",
       "      <td id=\"T_9ff3a_row2_col0\" class=\"data row2 col0\" >03/01/00</td>\n",
       "      <td id=\"T_9ff3a_row2_col1\" class=\"data row2 col1\" >Rp 800000.00</td>\n",
       "      <td id=\"T_9ff3a_row2_col2\" class=\"data row2 col2\" >Rp 150000.00</td>\n",
       "    </tr>\n",
       "    <tr>\n",
       "      <th id=\"T_9ff3a_level0_row3\" class=\"row_heading level0 row3\" ></th>\n",
       "      <td id=\"T_9ff3a_row3_col0\" class=\"data row3 col0\" >04/01/00</td>\n",
       "      <td id=\"T_9ff3a_row3_col1\" class=\"data row3 col1\" >Rp 1800000.00</td>\n",
       "      <td id=\"T_9ff3a_row3_col2\" class=\"data row3 col2\" >Rp 40000.00</td>\n",
       "    </tr>\n",
       "    <tr>\n",
       "      <th id=\"T_9ff3a_level0_row4\" class=\"row_heading level0 row4\" ></th>\n",
       "      <td id=\"T_9ff3a_row4_col0\" class=\"data row4 col0\" >05/01/00</td>\n",
       "      <td id=\"T_9ff3a_row4_col1\" class=\"data row4 col1\" >Rp 400000.00</td>\n",
       "      <td id=\"T_9ff3a_row4_col2\" class=\"data row4 col2\" >Rp 90000.00</td>\n",
       "    </tr>\n",
       "  </tbody>\n",
       "</table>\n"
      ],
      "text/plain": [
       "<pandas.io.formats.style.Styler at 0x2972c3412d0>"
      ]
     },
     "execution_count": 23,
     "metadata": {},
     "output_type": "execute_result"
    }
   ],
   "source": [
    "df_temp = df.copy()\n",
    "df_temp.index = [''] * len(df)\n",
    "\n",
    "df_temp_styled = df_temp.style.format(formatku)\n",
    "df_temp_styled"
   ]
  },
  {
   "cell_type": "code",
   "execution_count": 24,
   "metadata": {
    "colab": {
     "base_uri": "https://localhost:8080/",
     "height": 224
    },
    "id": "NDBJ6P0ve6tx",
    "outputId": "c409bc30-5069-4bc1-8375-09b1e1cb6373"
   },
   "outputs": [
    {
     "data": {
      "text/html": [
       "<style type=\"text/css\">\n",
       "</style>\n",
       "<table id=\"T_489fb\">\n",
       "  <caption>Data Omset dan Operasional</caption>\n",
       "  <thead>\n",
       "    <tr>\n",
       "      <th class=\"blank level0\" >&nbsp;</th>\n",
       "      <th id=\"T_489fb_level0_col0\" class=\"col_heading level0 col0\" >tanggal</th>\n",
       "      <th id=\"T_489fb_level0_col1\" class=\"col_heading level0 col1\" >omset</th>\n",
       "      <th id=\"T_489fb_level0_col2\" class=\"col_heading level0 col2\" >operasional</th>\n",
       "    </tr>\n",
       "  </thead>\n",
       "  <tbody>\n",
       "    <tr>\n",
       "      <th id=\"T_489fb_level0_row0\" class=\"row_heading level0 row0\" >0</th>\n",
       "      <td id=\"T_489fb_row0_col0\" class=\"data row0 col0\" >01/01/00</td>\n",
       "      <td id=\"T_489fb_row0_col1\" class=\"data row0 col1\" >Rp 800000.00</td>\n",
       "      <td id=\"T_489fb_row0_col2\" class=\"data row0 col2\" >Rp 70000.00</td>\n",
       "    </tr>\n",
       "    <tr>\n",
       "      <th id=\"T_489fb_level0_row1\" class=\"row_heading level0 row1\" >1</th>\n",
       "      <td id=\"T_489fb_row1_col0\" class=\"data row1 col0\" >02/01/00</td>\n",
       "      <td id=\"T_489fb_row1_col1\" class=\"data row1 col1\" >Rp 1500000.00</td>\n",
       "      <td id=\"T_489fb_row1_col2\" class=\"data row1 col2\" >Rp 40000.00</td>\n",
       "    </tr>\n",
       "    <tr>\n",
       "      <th id=\"T_489fb_level0_row2\" class=\"row_heading level0 row2\" >2</th>\n",
       "      <td id=\"T_489fb_row2_col0\" class=\"data row2 col0\" >03/01/00</td>\n",
       "      <td id=\"T_489fb_row2_col1\" class=\"data row2 col1\" >Rp 800000.00</td>\n",
       "      <td id=\"T_489fb_row2_col2\" class=\"data row2 col2\" >Rp 150000.00</td>\n",
       "    </tr>\n",
       "    <tr>\n",
       "      <th id=\"T_489fb_level0_row3\" class=\"row_heading level0 row3\" >3</th>\n",
       "      <td id=\"T_489fb_row3_col0\" class=\"data row3 col0\" >04/01/00</td>\n",
       "      <td id=\"T_489fb_row3_col1\" class=\"data row3 col1\" >Rp 1800000.00</td>\n",
       "      <td id=\"T_489fb_row3_col2\" class=\"data row3 col2\" >Rp 40000.00</td>\n",
       "    </tr>\n",
       "    <tr>\n",
       "      <th id=\"T_489fb_level0_row4\" class=\"row_heading level0 row4\" >4</th>\n",
       "      <td id=\"T_489fb_row4_col0\" class=\"data row4 col0\" >05/01/00</td>\n",
       "      <td id=\"T_489fb_row4_col1\" class=\"data row4 col1\" >Rp 400000.00</td>\n",
       "      <td id=\"T_489fb_row4_col2\" class=\"data row4 col2\" >Rp 90000.00</td>\n",
       "    </tr>\n",
       "  </tbody>\n",
       "</table>\n"
      ],
      "text/plain": [
       "<pandas.io.formats.style.Styler at 0x2972a6b12d0>"
      ]
     },
     "execution_count": 24,
     "metadata": {},
     "output_type": "execute_result"
    }
   ],
   "source": [
    "laporan.set_caption('Data Omset dan Operasional')"
   ]
  },
  {
   "cell_type": "code",
   "execution_count": 25,
   "metadata": {
    "colab": {
     "base_uri": "https://localhost:8080/",
     "height": 224
    },
    "id": "PoZ6xwObe_PM",
    "outputId": "945b7a68-4d0c-4590-c9a6-15ae2991380b"
   },
   "outputs": [
    {
     "data": {
      "text/html": [
       "<style type=\"text/css\">\n",
       "#T_489fb_row1_col2, #T_489fb_row3_col2 {\n",
       "  background-color: lightblue;\n",
       "}\n",
       "#T_489fb_row2_col2 {\n",
       "  background-color: grey;\n",
       "}\n",
       "#T_489fb_row3_col1 {\n",
       "  background-color: lightgreen;\n",
       "}\n",
       "#T_489fb_row4_col1 {\n",
       "  background-color: pink;\n",
       "}\n",
       "</style>\n",
       "<table id=\"T_489fb\">\n",
       "  <caption>Data Omset dan Operasional</caption>\n",
       "  <thead>\n",
       "    <tr>\n",
       "      <th class=\"blank level0\" >&nbsp;</th>\n",
       "      <th id=\"T_489fb_level0_col0\" class=\"col_heading level0 col0\" >tanggal</th>\n",
       "      <th id=\"T_489fb_level0_col1\" class=\"col_heading level0 col1\" >omset</th>\n",
       "      <th id=\"T_489fb_level0_col2\" class=\"col_heading level0 col2\" >operasional</th>\n",
       "    </tr>\n",
       "  </thead>\n",
       "  <tbody>\n",
       "    <tr>\n",
       "      <th id=\"T_489fb_level0_row0\" class=\"row_heading level0 row0\" >0</th>\n",
       "      <td id=\"T_489fb_row0_col0\" class=\"data row0 col0\" >01/01/00</td>\n",
       "      <td id=\"T_489fb_row0_col1\" class=\"data row0 col1\" >Rp 800000.00</td>\n",
       "      <td id=\"T_489fb_row0_col2\" class=\"data row0 col2\" >Rp 70000.00</td>\n",
       "    </tr>\n",
       "    <tr>\n",
       "      <th id=\"T_489fb_level0_row1\" class=\"row_heading level0 row1\" >1</th>\n",
       "      <td id=\"T_489fb_row1_col0\" class=\"data row1 col0\" >02/01/00</td>\n",
       "      <td id=\"T_489fb_row1_col1\" class=\"data row1 col1\" >Rp 1500000.00</td>\n",
       "      <td id=\"T_489fb_row1_col2\" class=\"data row1 col2\" >Rp 40000.00</td>\n",
       "    </tr>\n",
       "    <tr>\n",
       "      <th id=\"T_489fb_level0_row2\" class=\"row_heading level0 row2\" >2</th>\n",
       "      <td id=\"T_489fb_row2_col0\" class=\"data row2 col0\" >03/01/00</td>\n",
       "      <td id=\"T_489fb_row2_col1\" class=\"data row2 col1\" >Rp 800000.00</td>\n",
       "      <td id=\"T_489fb_row2_col2\" class=\"data row2 col2\" >Rp 150000.00</td>\n",
       "    </tr>\n",
       "    <tr>\n",
       "      <th id=\"T_489fb_level0_row3\" class=\"row_heading level0 row3\" >3</th>\n",
       "      <td id=\"T_489fb_row3_col0\" class=\"data row3 col0\" >04/01/00</td>\n",
       "      <td id=\"T_489fb_row3_col1\" class=\"data row3 col1\" >Rp 1800000.00</td>\n",
       "      <td id=\"T_489fb_row3_col2\" class=\"data row3 col2\" >Rp 40000.00</td>\n",
       "    </tr>\n",
       "    <tr>\n",
       "      <th id=\"T_489fb_level0_row4\" class=\"row_heading level0 row4\" >4</th>\n",
       "      <td id=\"T_489fb_row4_col0\" class=\"data row4 col0\" >05/01/00</td>\n",
       "      <td id=\"T_489fb_row4_col1\" class=\"data row4 col1\" >Rp 400000.00</td>\n",
       "      <td id=\"T_489fb_row4_col2\" class=\"data row4 col2\" >Rp 90000.00</td>\n",
       "    </tr>\n",
       "  </tbody>\n",
       "</table>\n"
      ],
      "text/plain": [
       "<pandas.io.formats.style.Styler at 0x2972a6b12d0>"
      ]
     },
     "execution_count": 25,
     "metadata": {},
     "output_type": "execute_result"
    }
   ],
   "source": [
    "laporan.highlight_min('omset', color='pink')\n",
    "laporan.highlight_max('omset', color='lightgreen')\n",
    "\n",
    "laporan.highlight_min('operasional', color='lightblue')\n",
    "laporan.highlight_max('operasional', color='grey')"
   ]
  },
  {
   "cell_type": "markdown",
   "metadata": {
    "id": "ekCUxV2DfCGu"
   },
   "source": [
    "# 20 Menggabungkan (merge) Dua Data Frame Secara Berdampingan"
   ]
  },
  {
   "cell_type": "markdown",
   "metadata": {
    "id": "M9uXj3cMfJ8P"
   },
   "source": [
    "Import Modules"
   ]
  },
  {
   "cell_type": "code",
   "execution_count": 26,
   "metadata": {
    "colab": {
     "base_uri": "https://localhost:8080/"
    },
    "id": "NX4dlLcEfMHX",
    "outputId": "85f32c18-e488-4575-a2b7-7738db5c146a"
   },
   "outputs": [
    {
     "name": "stdout",
     "output_type": "stream",
     "text": [
      "2.0.3\n"
     ]
    }
   ],
   "source": [
    "import pandas as pd\n",
    "\n",
    "print(pd.__version__)"
   ]
  },
  {
   "cell_type": "code",
   "execution_count": 27,
   "metadata": {
    "colab": {
     "base_uri": "https://localhost:8080/",
     "height": 143
    },
    "id": "hL79hCcifTUx",
    "outputId": "2a8ee759-f616-4355-c17b-f39b61e9eb3d"
   },
   "outputs": [
    {
     "data": {
      "text/html": [
       "<div>\n",
       "<style scoped>\n",
       "    .dataframe tbody tr th:only-of-type {\n",
       "        vertical-align: middle;\n",
       "    }\n",
       "\n",
       "    .dataframe tbody tr th {\n",
       "        vertical-align: top;\n",
       "    }\n",
       "\n",
       "    .dataframe thead th {\n",
       "        text-align: right;\n",
       "    }\n",
       "</style>\n",
       "<table border=\"1\" class=\"dataframe\">\n",
       "  <thead>\n",
       "    <tr style=\"text-align: right;\">\n",
       "      <th></th>\n",
       "      <th>col1</th>\n",
       "      <th>col2</th>\n",
       "    </tr>\n",
       "  </thead>\n",
       "  <tbody>\n",
       "    <tr>\n",
       "      <th>0</th>\n",
       "      <td>1</td>\n",
       "      <td>10</td>\n",
       "    </tr>\n",
       "    <tr>\n",
       "      <th>1</th>\n",
       "      <td>2</td>\n",
       "      <td>20</td>\n",
       "    </tr>\n",
       "    <tr>\n",
       "      <th>2</th>\n",
       "      <td>3</td>\n",
       "      <td>30</td>\n",
       "    </tr>\n",
       "  </tbody>\n",
       "</table>\n",
       "</div>"
      ],
      "text/plain": [
       "   col1  col2\n",
       "0     1    10\n",
       "1     2    20\n",
       "2     3    30"
      ]
     },
     "execution_count": 27,
     "metadata": {},
     "output_type": "execute_result"
    }
   ],
   "source": [
    "d1 = {'col1':[1, 2, 3], \n",
    "      'col2':[10, 20, 30]}\n",
    "df1 = pd.DataFrame(d1)\n",
    "df1"
   ]
  },
  {
   "cell_type": "code",
   "execution_count": 28,
   "metadata": {
    "colab": {
     "base_uri": "https://localhost:8080/",
     "height": 143
    },
    "id": "xsqjGPw6fVFa",
    "outputId": "875101b1-7261-4d20-d764-2b6efcfa368c"
   },
   "outputs": [
    {
     "data": {
      "text/html": [
       "<div>\n",
       "<style scoped>\n",
       "    .dataframe tbody tr th:only-of-type {\n",
       "        vertical-align: middle;\n",
       "    }\n",
       "\n",
       "    .dataframe tbody tr th {\n",
       "        vertical-align: top;\n",
       "    }\n",
       "\n",
       "    .dataframe thead th {\n",
       "        text-align: right;\n",
       "    }\n",
       "</style>\n",
       "<table border=\"1\" class=\"dataframe\">\n",
       "  <thead>\n",
       "    <tr style=\"text-align: right;\">\n",
       "      <th></th>\n",
       "      <th>col3</th>\n",
       "      <th>col4</th>\n",
       "    </tr>\n",
       "  </thead>\n",
       "  <tbody>\n",
       "    <tr>\n",
       "      <th>0</th>\n",
       "      <td>4</td>\n",
       "      <td>40</td>\n",
       "    </tr>\n",
       "    <tr>\n",
       "      <th>1</th>\n",
       "      <td>5</td>\n",
       "      <td>50</td>\n",
       "    </tr>\n",
       "    <tr>\n",
       "      <th>2</th>\n",
       "      <td>6</td>\n",
       "      <td>60</td>\n",
       "    </tr>\n",
       "  </tbody>\n",
       "</table>\n",
       "</div>"
      ],
      "text/plain": [
       "   col3  col4\n",
       "0     4    40\n",
       "1     5    50\n",
       "2     6    60"
      ]
     },
     "execution_count": 28,
     "metadata": {},
     "output_type": "execute_result"
    }
   ],
   "source": [
    "d2 = {'col3':[4, 5, 6], \n",
    "      'col4':[40, 50, 60]}\n",
    "df2 = pd.DataFrame(d2)\n",
    "df2"
   ]
  },
  {
   "cell_type": "code",
   "execution_count": 29,
   "metadata": {
    "colab": {
     "base_uri": "https://localhost:8080/",
     "height": 143
    },
    "id": "xXOFtg6dfa0L",
    "outputId": "3f87617d-3b99-4c13-df7a-a4b5b1224bc7"
   },
   "outputs": [
    {
     "data": {
      "text/html": [
       "<div>\n",
       "<style scoped>\n",
       "    .dataframe tbody tr th:only-of-type {\n",
       "        vertical-align: middle;\n",
       "    }\n",
       "\n",
       "    .dataframe tbody tr th {\n",
       "        vertical-align: top;\n",
       "    }\n",
       "\n",
       "    .dataframe thead th {\n",
       "        text-align: right;\n",
       "    }\n",
       "</style>\n",
       "<table border=\"1\" class=\"dataframe\">\n",
       "  <thead>\n",
       "    <tr style=\"text-align: right;\">\n",
       "      <th></th>\n",
       "      <th>col1</th>\n",
       "      <th>col2</th>\n",
       "      <th>col3</th>\n",
       "      <th>col4</th>\n",
       "    </tr>\n",
       "  </thead>\n",
       "  <tbody>\n",
       "    <tr>\n",
       "      <th>0</th>\n",
       "      <td>1</td>\n",
       "      <td>10</td>\n",
       "      <td>4</td>\n",
       "      <td>40</td>\n",
       "    </tr>\n",
       "    <tr>\n",
       "      <th>1</th>\n",
       "      <td>2</td>\n",
       "      <td>20</td>\n",
       "      <td>5</td>\n",
       "      <td>50</td>\n",
       "    </tr>\n",
       "    <tr>\n",
       "      <th>2</th>\n",
       "      <td>3</td>\n",
       "      <td>30</td>\n",
       "      <td>6</td>\n",
       "      <td>60</td>\n",
       "    </tr>\n",
       "  </tbody>\n",
       "</table>\n",
       "</div>"
      ],
      "text/plain": [
       "   col1  col2  col3  col4\n",
       "0     1    10     4    40\n",
       "1     2    20     5    50\n",
       "2     3    30     6    60"
      ]
     },
     "execution_count": 29,
     "metadata": {},
     "output_type": "execute_result"
    }
   ],
   "source": [
    "df = pd.merge(df1, df2, left_index=True, right_index=True)\n",
    "df"
   ]
  }
 ],
 "metadata": {
  "colab": {
   "provenance": []
  },
  "kernelspec": {
   "display_name": "Python 3 (ipykernel)",
   "language": "python",
   "name": "python3"
  },
  "language_info": {
   "codemirror_mode": {
    "name": "ipython",
    "version": 3
   },
   "file_extension": ".py",
   "mimetype": "text/x-python",
   "name": "python",
   "nbconvert_exporter": "python",
   "pygments_lexer": "ipython3",
   "version": "3.11.5"
  }
 },
 "nbformat": 4,
 "nbformat_minor": 4
}
